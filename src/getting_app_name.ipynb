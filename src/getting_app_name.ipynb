{
 "cells": [
  {
   "cell_type": "code",
   "execution_count": null,
   "metadata": {},
   "outputs": [],
   "source": [
    "import pygetwindow as gw"
   ]
  },
  {
   "cell_type": "code",
   "execution_count": null,
   "metadata": {},
   "outputs": [
    {
     "name": "stdout",
     "output_type": "stream",
     "text": [
      "data_analysis.ipynb - PC Usage Analyzer - python - Visual Studio Code\n"
     ]
    }
   ],
   "source": [
    "from win32gui import GetWindowText, GetForegroundWindow\n",
    "\n",
    "print(GetWindowText(GetForegroundWindow()))"
   ]
  },
  {
   "cell_type": "code",
   "execution_count": null,
   "metadata": {},
   "outputs": [
    {
     "data": {
      "text/plain": [
       "'data_analysis.ipynb - PC Usage Analyzer - python - Visual Studio Code'"
      ]
     },
     "metadata": {},
     "output_type": "display_data"
    }
   ],
   "source": [
    "gw.getActiveWindow().title"
   ]
  },
  {
   "cell_type": "code",
   "execution_count": 3,
   "metadata": {},
   "outputs": [
    {
     "data": {
      "text/plain": [
       "c_ulong(0)"
      ]
     },
     "execution_count": 3,
     "metadata": {},
     "output_type": "execute_result"
    }
   ],
   "source": [
    "from ctypes import wintypes\n",
    "\n",
    "pid = wintypes.DWORD()\n",
    "pid"
   ]
  },
  {
   "cell_type": "code",
   "execution_count": 4,
   "metadata": {},
   "outputs": [
    {
     "name": "stdout",
     "output_type": "stream",
     "text": [
      "17288\n",
      "17292\n",
      "Process ID :  17292\n",
      "Process Name :  Code.exe\n",
      "Process Status :  running\n",
      "Process Parent ID :  5220\n",
      "Process Creation Time :  1712725611.8682802\n",
      "Process Memory Info :  pmem(rss=144527360, vms=78409728, num_page_faults=36315028, peak_wset=307310592, wset=144527360, peak_paged_pool=1278288, paged_pool=1134040, peak_nonpaged_pool=345304, nonpaged_pool=72832, pagefile=78409728, peak_pagefile=248807424, private=78409728)\n",
      "Process Memory Info :  pfullmem(rss=144527360, vms=78409728, num_page_faults=36315028, peak_wset=307310592, wset=144527360, peak_paged_pool=1278288, paged_pool=1134040, peak_nonpaged_pool=345304, nonpaged_pool=72832, pagefile=78409728, peak_pagefile=248807424, private=78409728, uss=48664576)\n",
      "Process cpu percent :  0.0\n"
     ]
    }
   ],
   "source": [
    "import time\n",
    "\n",
    "time.sleep(2)\n",
    "import ctypes\n",
    "from ctypes import wintypes\n",
    "\n",
    "user32 = ctypes.windll.user32\n",
    "\n",
    "h_wnd = user32.GetForegroundWindow()\n",
    "pid = wintypes.DWORD()\n",
    "user32.GetWindowThreadProcessId(h_wnd, ctypes.byref(pid))\n",
    "print(pid.value)\n",
    "\n",
    "import psutil\n",
    "\n",
    "# Assuming pid is the process ID\n",
    "p = psutil.Process(pid.value)\n",
    "\n",
    "print(\"Process ID : \", p.pid)\n",
    "print(\"Process Name : \", p.name())\n",
    "print(\"Process Status : \", p.status())\n",
    "print(\"Process Parent ID : \", p.ppid())\n",
    "# print(\"Process Parent Name : \", p.parent().name())\n",
    "print(\"Process Creation Time : \", p.create_time())\n",
    "print(\"Process Memory Info : \", p.memory_info())\n",
    "print(\"Process Memory Info : \", p.memory_full_info())\n",
    "print(\"Process cpu percent : \", p.cpu_percent())\n",
    "# print(\"Process CPU Times : \", p.cpu_times())\n",
    "# print(\"Process Open Files : \", p.open_files())"
   ]
  },
  {
   "cell_type": "code",
   "execution_count": null,
   "metadata": {},
   "outputs": [
    {
     "data": {
      "text/plain": [
       "[psutil.Process(pid=14776, name='msedge.exe', status='running', started='10:31:32'),\n",
       " psutil.Process(pid=15164, name='msedge.exe', status='running', started='10:31:32'),\n",
       " psutil.Process(pid=15172, name='msedge.exe', status='running', started='10:31:32'),\n",
       " psutil.Process(pid=15336, name='msedge.exe', status='running', started='10:31:32'),\n",
       " psutil.Process(pid=13276, name='msedge.exe', status='running', started='10:31:32'),\n",
       " psutil.Process(pid=14880, name='msedge.exe', status='running', started='10:31:32'),\n",
       " psutil.Process(pid=15628, name='cmd.exe', status='running', started='10:31:32'),\n",
       " psutil.Process(pid=18956, name='msedge.exe', status='running', started='10:31:34'),\n",
       " psutil.Process(pid=19748, name='msedge.exe', status='running', started='10:31:34'),\n",
       " psutil.Process(pid=20224, name='msedge.exe', status='running', started='10:31:36'),\n",
       " psutil.Process(pid=9836, name='msedge.exe', status='running', started='10:31:37'),\n",
       " psutil.Process(pid=12084, name='msedge.exe', status='running', started='10:32:32'),\n",
       " psutil.Process(pid=11244, name='msedge.exe', status='running', started='12:06:29'),\n",
       " psutil.Process(pid=18228, name='msedge.exe', status='running', started='12:48:13'),\n",
       " psutil.Process(pid=34280, name='msedge.exe', status='running', started='19:49:32'),\n",
       " psutil.Process(pid=10540, name='msedge.exe', status='running', started='21:09:28'),\n",
       " psutil.Process(pid=15908, name='msedge.exe', status='running', started='21:50:08'),\n",
       " psutil.Process(pid=19064, name='msedge.exe', status='running', started='22:01:51'),\n",
       " psutil.Process(pid=29516, name='msedge.exe', status='running', started='22:01:52'),\n",
       " psutil.Process(pid=15492, name='msedge.exe', status='running', started='22:09:28')]"
      ]
     },
     "metadata": {},
     "output_type": "display_data"
    }
   ],
   "source": [
    "p.children()"
   ]
  },
  {
   "cell_type": "code",
   "execution_count": null,
   "metadata": {},
   "outputs": [
    {
     "name": "stdout",
     "output_type": "stream",
     "text": [
      "Memory usage: 107.08203125 MB\n"
     ]
    }
   ],
   "source": [
    "# Get the memory info\n",
    "mem_info = p.memory_full_info()\n",
    "\n",
    "# Print the memory usage\n",
    "print(f\"Memory usage: {mem_info.uss / (1024 * 1024)} MB\")"
   ]
  },
  {
   "cell_type": "code",
   "execution_count": null,
   "metadata": {},
   "outputs": [
    {
     "name": "stdout",
     "output_type": "stream",
     "text": [
      "Combined memory usage: 1365.63671875 MB\n"
     ]
    }
   ],
   "source": [
    "# Get the memory usage of the process\n",
    "total_memory = 0\n",
    "\n",
    "# Get the child processes\n",
    "children = p.children(recursive=True)\n",
    "\n",
    "# Add the memory usage of each child process\n",
    "for child in children:\n",
    "    total_memory += child.memory_full_info().uss\n",
    "\n",
    "# Print the combined memory usage\n",
    "print(f\"Combined memory usage: {total_memory / (1024 * 1024)} MB\")"
   ]
  },
  {
   "cell_type": "code",
   "execution_count": null,
   "metadata": {},
   "outputs": [],
   "source": [
    "from typing import Optional\n",
    "from ctypes import wintypes, windll, create_unicode_buffer\n",
    "\n",
    "\n",
    "def getForegroundWindowTitle() -> Optional[str]:\n",
    "    hWnd = windll.user32.GetForegroundWindow()\n",
    "    length = windll.user32.GetWindowTextLengthW(hWnd)\n",
    "    buf = create_unicode_buffer(length + 1)\n",
    "    windll.user32.GetWindowTextW(hWnd, buf, length + 1)\n",
    "\n",
    "    # 1-liner alternative: return buf.value if buf.value else None\n",
    "    if buf.value:\n",
    "        return buf.value\n",
    "    else:\n",
    "        return None"
   ]
  },
  {
   "cell_type": "code",
   "execution_count": null,
   "metadata": {},
   "outputs": [
    {
     "data": {
      "text/plain": [
       "'data_analysis.ipynb - PC Usage Analyzer - python - Visual Studio Code'"
      ]
     },
     "metadata": {},
     "output_type": "display_data"
    }
   ],
   "source": [
    "getForegroundWindowTitle()"
   ]
  },
  {
   "cell_type": "code",
   "execution_count": 5,
   "metadata": {},
   "outputs": [
    {
     "name": "stdout",
     "output_type": "stream",
     "text": [
      "Requirement already satisfied: pywin32 in p:\\programs\\dsml\\pc usage analyzer\\wdenv\\lib\\site-packages (306)\n",
      "Requirement already satisfied: Pillow in p:\\programs\\dsml\\pc usage analyzer\\wdenv\\lib\\site-packages (10.2.0)\n",
      "Note: you may need to restart the kernel to use updated packages.\n"
     ]
    },
    {
     "name": "stderr",
     "output_type": "stream",
     "text": [
      "\n",
      "[notice] A new release of pip is available: 23.3.2 -> 24.0\n",
      "[notice] To update, run: python.exe -m pip install --upgrade pip\n"
     ]
    }
   ],
   "source": [
    "%pip install pywin32 Pillow"
   ]
  },
  {
   "cell_type": "code",
   "execution_count": 23,
   "metadata": {},
   "outputs": [],
   "source": [
    "longlist = [\n",
    "    4250081908400271013963777660,\n",
    "    4250081908400271013963777661,\n",
    "    4250081908400271013963777667,\n",
    "    4250081908400271013963777663,\n",
    "    4250081908400271013963777662,\n",
    "    5250081908400271013963777668,\n",
    "    5250081908400271013963777662,\n",
    "    5250081908400271013963777667,\n",
    "    5250081908400271013963777661,\n",
    "    5250081908400271013963777666,\n",
    "    6250081908400271013963777663,\n",
    "    6250081908400271013963777663,\n",
    "    6250081908400271013963777668,\n",
    "    6250081908400271013963777669,\n",
    "    6250081908400271013963777652,\n",
    "]"
   ]
  },
  {
   "cell_type": "code",
   "execution_count": 26,
   "metadata": {},
   "outputs": [
    {
     "data": {
      "text/plain": [
       "'5250081908400270538388275200'"
      ]
     },
     "execution_count": 26,
     "metadata": {},
     "output_type": "execute_result"
    }
   ],
   "source": [
    "avg = sum(longlist) / len(longlist)\n",
    "average_str = format(avg, \".0f\")\n",
    "average_str"
   ]
  },
  {
   "cell_type": "code",
   "execution_count": 28,
   "metadata": {},
   "outputs": [
    {
     "data": {
      "text/plain": [
       "28"
      ]
     },
     "execution_count": 28,
     "metadata": {},
     "output_type": "execute_result"
    }
   ],
   "source": []
  },
  {
   "cell_type": "code",
   "execution_count": null,
   "metadata": {},
   "outputs": [],
   "source": []
  }
 ],
 "metadata": {
  "kernelspec": {
   "display_name": "WDEnv",
   "language": "python",
   "name": "python3"
  },
  "language_info": {
   "codemirror_mode": {
    "name": "ipython",
    "version": 3
   },
   "file_extension": ".py",
   "mimetype": "text/x-python",
   "name": "python",
   "nbconvert_exporter": "python",
   "pygments_lexer": "ipython3",
   "version": "3.10.8"
  }
 },
 "nbformat": 4,
 "nbformat_minor": 2
}
